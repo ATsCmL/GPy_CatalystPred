{
 "cells": [
  {
   "cell_type": "code",
   "execution_count": 10,
   "id": "92cfb267",
   "metadata": {},
   "outputs": [
    {
     "ename": "ModuleNotFoundError",
     "evalue": "No module named 'gprotorch'",
     "output_type": "error",
     "traceback": [
      "\u001b[0;31m---------------------------------------------------------------------------\u001b[0m",
      "\u001b[0;31mModuleNotFoundError\u001b[0m                       Traceback (most recent call last)",
      "\u001b[0;32m<ipython-input-10-c861a82b9398>\u001b[0m in \u001b[0;36m<module>\u001b[0;34m\u001b[0m\n\u001b[1;32m     13\u001b[0m \u001b[0;34m\u001b[0m\u001b[0m\n\u001b[1;32m     14\u001b[0m \u001b[0;32mimport\u001b[0m \u001b[0mtorch\u001b[0m\u001b[0;34m,\u001b[0m \u001b[0mgpytorch\u001b[0m\u001b[0;34m,\u001b[0m \u001b[0mwarnings\u001b[0m\u001b[0;34m\u001b[0m\u001b[0;34m\u001b[0m\u001b[0m\n\u001b[0;32m---> 15\u001b[0;31m \u001b[0;32mfrom\u001b[0m \u001b[0mgprotorch\u001b[0m \u001b[0;32mimport\u001b[0m \u001b[0mSIGP\u001b[0m\u001b[0;34m,\u001b[0m \u001b[0mInputs\u001b[0m\u001b[0;34m,\u001b[0m \u001b[0mKernel\u001b[0m\u001b[0;34m\u001b[0m\u001b[0;34m\u001b[0m\u001b[0m\n\u001b[0m\u001b[1;32m     16\u001b[0m \u001b[0;34m\u001b[0m\u001b[0m\n\u001b[1;32m     17\u001b[0m \u001b[0mget_ipython\u001b[0m\u001b[0;34m(\u001b[0m\u001b[0;34m)\u001b[0m\u001b[0;34m.\u001b[0m\u001b[0mrun_line_magic\u001b[0m\u001b[0;34m(\u001b[0m\u001b[0;34m'matplotlib'\u001b[0m\u001b[0;34m,\u001b[0m \u001b[0;34m'inline'\u001b[0m\u001b[0;34m)\u001b[0m\u001b[0;34m\u001b[0m\u001b[0;34m\u001b[0m\u001b[0m\n",
      "\u001b[0;31mModuleNotFoundError\u001b[0m: No module named 'gprotorch'"
     ]
    }
   ],
   "source": [
    "%%capture\n",
    "\n",
    "import sys\n",
    "sys.path.append('../Documents/GitHub/gauche/')\n",
    "\n",
    "import numpy as np\n",
    "import pandas as pd\n",
    "from sklearn.metrics import r2_score, mean_squared_error\n",
    "from sklearn.model_selection import train_test_split\n",
    "from grakel import Graph\n",
    "from grakel.kernels import WeisfeilerLehmanOptimalAssignment\n",
    "from rdkit.Chem import MolFromSmiles, FindAtomEnvironmentOfRadiusN, PathToSubmol\n",
    "import matplotlib.pyplot as plt\n",
    "from functools import lru_cache\n",
    "\n",
    "import torch, gpytorch, warnings\n",
    "from gprotorch import SIGP, Inputs, Kernel\n",
    "\n",
    "%matplotlib inline\n",
    "plt.style.use('seaborn-pastel')\n",
    "warnings.filterwarnings(action='ignore', category=UserWarning, module=r'gpytorch')\n",
    "warnings.filterwarnings(action='ignore', category=gpytorch.utils.warnings.NumericalWarning, module=r'gpytorch')"
   ]
  },
  {
   "cell_type": "code",
   "execution_count": 5,
   "id": "04fa6792",
   "metadata": {},
   "outputs": [],
   "source": [
    "data = pd.read_csv('data/God file_Oct_24.csv').loc[165:195].reset_index(drop=True) # spasyuk 13\n",
    "data = data[['Catalyst', 'Ester', 'Yield (%)', 'temp (oC)', 'pressure (bar)']]\n",
    "data.columns = ['c', 'e', 'y', 't', 'p']\n",
    "data['idx'] = np.arange(len(data))\n",
    "data['c'] = data.c.str.replace('[a-zA-Z]', '', regex=True).astype(int)\n",
    "data['e'] = data.e.str.replace('[a-zA-Z]', '', regex=True).astype(int)\n",
    "\n",
    "smiles = pd.read_csv('data/db_smiles.csv', header=None)[[0, 1]]\n",
    "smiles.columns = ['comp', 'smile']\n",
    "cats = smiles.loc[smiles.comp.str.contains('C')].copy()\n",
    "cats['comp'] = cats.comp.str.replace('[_a-zA-Z]', '', regex=True).astype(int)\n",
    "ests = smiles.loc[smiles.comp.str.contains('E')].copy()\n",
    "ests['comp'] = ests.comp.str.replace('[_a-zA-Z]', '', regex=True).astype(int)\n",
    "cats = cats.drop_duplicates('comp')\n",
    "ests = ests.drop_duplicates('comp')"
   ]
  },
  {
   "cell_type": "code",
   "execution_count": 6,
   "id": "58b7fde5",
   "metadata": {},
   "outputs": [],
   "source": [
    "data = data.merge(cats, right_on='comp', left_on='c').drop(['c', 'comp'], axis=1)\n",
    "data = data.rename(columns=dict(smile='c'))\n",
    "data = data.merge(ests, right_on='comp', left_on='e').drop(['e', 'comp'], axis=1)\n",
    "data = data.rename(columns=dict(smile='e'))\n",
    "data = data.reset_index(drop=True)"
   ]
  },
  {
   "cell_type": "code",
   "execution_count": 6,
   "id": "167e2b51",
   "metadata": {},
   "outputs": [
    {
     "name": "stdout",
     "output_type": "stream",
     "text": [
      "Collecting xlrd\n",
      "  Downloading xlrd-2.0.1-py2.py3-none-any.whl (96 kB)\n",
      "\u001b[2K     \u001b[90m━━━━━━━━━━━━━━━━━━━━━━━━━━━━━━━━━━━━━━━━\u001b[0m \u001b[32m96.5/96.5 kB\u001b[0m \u001b[31m1.4 MB/s\u001b[0m eta \u001b[36m0:00:00\u001b[0ma \u001b[36m0:00:01\u001b[0m\n",
      "\u001b[?25hInstalling collected packages: xlrd\n",
      "Successfully installed xlrd-2.0.1\n"
     ]
    }
   ],
   "source": [
    "!pip install xlrd"
   ]
  },
  {
   "cell_type": "code",
   "execution_count": 7,
   "id": "8284fd28",
   "metadata": {},
   "outputs": [],
   "source": [
    "data['c'] = data.c.str.replace('[N]', '[N+]', regex=False)\n",
    "data['c'] = data.c.str.replace('[NH]', '[NH+]', regex=False)\n",
    "data['c'] = data.c.str.replace('[NH1]', '[NH1+]', regex=False)\n",
    "data['c'] = data.c.str.replace('[NH2]', '[NH2+]', regex=False)\n",
    "data['c'] = data.c.str.replace('[N@@H]', '[N@@H+]', regex=False)\n",
    "data['c'] = data.c.str.replace('[N@H]', '[N@H+]', regex=False)\n",
    "data['c'] = data.c.str.replace('[N@@]', '[N@@+]', regex=False)\n",
    "data['c'] = data.c.str.replace('[BH4]', '[BH4-]', regex=False)\n",
    "data['c'] = data.c.str.replace('[B]', '[B-]', regex=False)"
   ]
  },
  {
   "cell_type": "code",
   "execution_count": 9,
   "id": "c2a5a5c7",
   "metadata": {},
   "outputs": [
    {
     "ename": "ModuleNotFoundError",
     "evalue": "No module named 'gprotorch'",
     "output_type": "error",
     "traceback": [
      "\u001b[0;31m---------------------------------------------------------------------------\u001b[0m",
      "\u001b[0;31mModuleNotFoundError\u001b[0m                       Traceback (most recent call last)",
      "\u001b[0;32m<ipython-input-9-9ca65a8b5b95>\u001b[0m in \u001b[0;36m<module>\u001b[0;34m\u001b[0m\n\u001b[0;32m----> 1\u001b[0;31m \u001b[0;32mfrom\u001b[0m \u001b[0mgprotorch\u001b[0m \u001b[0;32mimport\u001b[0m \u001b[0mSIGP\u001b[0m\u001b[0;34m,\u001b[0m \u001b[0mInputs\u001b[0m\u001b[0;34m,\u001b[0m \u001b[0mKernel\u001b[0m\u001b[0;34m\u001b[0m\u001b[0;34m\u001b[0m\u001b[0m\n\u001b[0m\u001b[1;32m      2\u001b[0m \u001b[0msoftplus\u001b[0m \u001b[0;34m=\u001b[0m \u001b[0mtorch\u001b[0m\u001b[0;34m.\u001b[0m\u001b[0mnn\u001b[0m\u001b[0;34m.\u001b[0m\u001b[0mSoftplus\u001b[0m\u001b[0;34m(\u001b[0m\u001b[0;34m)\u001b[0m\u001b[0;34m\u001b[0m\u001b[0;34m\u001b[0m\u001b[0m\n\u001b[1;32m      3\u001b[0m \u001b[0;32mclass\u001b[0m \u001b[0mGraphGP\u001b[0m\u001b[0;34m(\u001b[0m\u001b[0mSIGP\u001b[0m\u001b[0;34m)\u001b[0m\u001b[0;34m:\u001b[0m\u001b[0;34m\u001b[0m\u001b[0;34m\u001b[0m\u001b[0m\n\u001b[1;32m      4\u001b[0m     \u001b[0;32mdef\u001b[0m \u001b[0m__init__\u001b[0m\u001b[0;34m(\u001b[0m\u001b[0mself\u001b[0m\u001b[0;34m,\u001b[0m \u001b[0mtrain_x\u001b[0m\u001b[0;34m,\u001b[0m \u001b[0mtrain_y\u001b[0m\u001b[0;34m,\u001b[0m \u001b[0mlikelihood\u001b[0m\u001b[0;34m,\u001b[0m \u001b[0mkernel\u001b[0m\u001b[0;34m)\u001b[0m\u001b[0;34m:\u001b[0m\u001b[0;34m\u001b[0m\u001b[0;34m\u001b[0m\u001b[0m\n\u001b[1;32m      5\u001b[0m         \u001b[0msuper\u001b[0m\u001b[0;34m(\u001b[0m\u001b[0;34m)\u001b[0m\u001b[0;34m.\u001b[0m\u001b[0m__init__\u001b[0m\u001b[0;34m(\u001b[0m\u001b[0mtrain_x\u001b[0m\u001b[0;34m,\u001b[0m \u001b[0mtrain_y\u001b[0m\u001b[0;34m,\u001b[0m \u001b[0mlikelihood\u001b[0m\u001b[0;34m)\u001b[0m\u001b[0;34m\u001b[0m\u001b[0;34m\u001b[0m\u001b[0m\n",
      "\u001b[0;31mModuleNotFoundError\u001b[0m: No module named 'gprotorch'"
     ]
    }
   ],
   "source": [
    "from gprotorch import SIGP, Inputs, Kernel\n",
    "softplus = torch.nn.Softplus()\n",
    "class GraphGP(SIGP):\n",
    "    def __init__(self, train_x, train_y, likelihood, kernel):\n",
    "        super().__init__(train_x, train_y, likelihood)\n",
    "        self.intercept = gpytorch.means.ConstantMean()\n",
    "        self.covariance_smt = gpytorch.kernels.ScaleKernel(\n",
    "            gpytorch.kernels.MaternKernel(nu=1.5, ard_num_dims=2))\n",
    "        self.covariance_cat = GraphKernel(kernel)\n",
    "        self.covariance_est = GraphKernel(kernel)\n",
    "        self.powers = torch.nn.Parameter(torch.tensor([0.5, 0.5]))\n",
    "\n",
    "    def forward(self, x):\n",
    "        temp_pres = torch.cat([p[2][None, :] for p in x.data], axis=0)\n",
    "        mean = self.intercept(torch.zeros(len(x.data), 1)).float()\n",
    "        covariance = self.covariance_cat(x, 'catalyst').pow(softplus(self.powers[0])) + \\\n",
    "                     self.covariance_est(x, 'ester').pow(softplus(self.powers[1])) + \\\n",
    "                     self.covariance_smt(temp_pres)\n",
    "        jitter = max(covariance.diag().mean().detach().item()*1e-4, 1e-4)\n",
    "        covariance += torch.eye(len(x.data))*jitter\n",
    "        return gpytorch.distributions.MultivariateNormal(mean, covariance)\n",
    "\n",
    "class GraphKernel(Kernel):\n",
    "    def __init__(self, graph_kernel, *args, **kwargs):\n",
    "        super().__init__(*args, **kwargs)\n",
    "        self.kernel = graph_kernel\n",
    "\n",
    "    @lru_cache(maxsize=10)\n",
    "    def kern(self, X, which):\n",
    "        X = [graphs[0 if which=='catalyst' else 1] for graphs in X.data]\n",
    "        return torch.tensor(self.kernel.fit_transform(X)).float()\n",
    "\n",
    "    def forward(self, X, w):\n",
    "        return self.scale(self.kern(X, w))"
   ]
  },
  {
   "cell_type": "code",
   "execution_count": 6,
   "id": "0cc1e112",
   "metadata": {},
   "outputs": [],
   "source": [
    "n_trials = 20\n",
    "test_set_size = 0.25"
   ]
  },
  {
   "cell_type": "code",
   "execution_count": 7,
   "id": "e042c4e6",
   "metadata": {},
   "outputs": [],
   "source": [
    "bond_types = {1.0: 'S', 1.5: 'A', 2.0: 'D', 3.0: 'O'}\n",
    "\n",
    "def to_graph(mol):\n",
    "    ''' from leo's branch, modified '''\n",
    "    node_labels = {i: mol.GetAtomWithIdx(i).GetSymbol() for i in range(mol.GetNumAtoms())}\n",
    "    edges = {}\n",
    "    for bond in mol.GetBonds():\n",
    "        start_idx = bond.GetBeginAtomIdx()\n",
    "        end_idx = bond.GetEndAtomIdx()\n",
    "        bond_type = bond.GetBondTypeAsDouble()\n",
    "\n",
    "        edges[(start_idx, end_idx)] = bond_types[bond_type]\n",
    "        edges[(end_idx, start_idx)] = bond_types[bond_type]\n",
    "    edge_list = list(edges.keys())\n",
    "\n",
    "    if len(edge_list) == 0:\n",
    "        print('empty graph')\n",
    "        edge_list = [(0, 0)]\n",
    "    graph = Graph(edge_list,\n",
    "        node_labels=node_labels,\n",
    "        edge_labels=edges)\n",
    "    return graph\n",
    "\n",
    "def to_graph_catalyst(mol):\n",
    "    node_labels = {i: mol.GetAtomWithIdx(i).GetSymbol() for i in range(mol.GetNumAtoms())}\n",
    "    ru_n = int(np.where(np.array(list(node_labels.values())) == 'Ru')[0][0])\n",
    "    env = FindAtomEnvironmentOfRadiusN(mol, 3, ru_n)\n",
    "    mol = PathToSubmol(mol, env, atomMap={})\n",
    "    return to_graph(mol)"
   ]
  },
  {
   "cell_type": "markdown",
   "id": "c1362bd4",
   "metadata": {},
   "source": [
    "The training/evaluation loop"
   ]
  },
  {
   "cell_type": "code",
   "execution_count": 8,
   "id": "cc4305d1",
   "metadata": {},
   "outputs": [
    {
     "name": "stdout",
     "output_type": "stream",
     "text": [
      "R^2s: 0.5656785965893445 +- 0.5731591285036732\n",
      "RMSEs: 13.29859447479248 +- 5.528521537780762\n"
     ]
    }
   ],
   "source": [
    "kernel = WeisfeilerLehmanOptimalAssignment(n_iter=20)\n",
    "\n",
    "X = [(\n",
    "    to_graph(MolFromSmiles(data.loc[i, 'c'])), \\\n",
    "    to_graph(MolFromSmiles(data.loc[i, 'e'])),\n",
    "    torch.tensor(data.loc[i, ['t', 'p']]).float()\n",
    ") for i in range(len(data))]\n",
    "y = np.array(data.y, dtype='float')\n",
    "\n",
    "r2_list = []; rmse_list = []; pred_dicts = []\n",
    "for i in range(0, n_trials):\n",
    "    np.random.seed(i); torch.manual_seed(i)\n",
    "    X_train, X_test, y_train, y_test = \\\n",
    "        train_test_split(X, y, test_size=test_set_size, random_state=i)\n",
    "    \n",
    "    y_train = torch.tensor(y_train).flatten().float()\n",
    "    y_test = torch.tensor(y_test).flatten().float()\n",
    "\n",
    "    X_train = Inputs(X_train); X_test = Inputs(X_test)\n",
    "\n",
    "    likelihood = gpytorch.likelihoods.GaussianLikelihood()\n",
    "    model = GraphGP(X_train, y_train, likelihood, kernel)\n",
    "\n",
    "    model.train(); likelihood.train()\n",
    "\n",
    "    mll = gpytorch.mlls.ExactMarginalLogLikelihood(likelihood, model)\n",
    "    optimizer = torch.optim.Adam(model.parameters(), lr=0.1)\n",
    "\n",
    "    for j in range(200):\n",
    "        optimizer.zero_grad()\n",
    "        output = model(X_train)\n",
    "        loss = -mll(output, y_train)\n",
    "        loss.backward()\n",
    "        optimizer.step()\n",
    "\n",
    "    model.eval(); likelihood.eval()\n",
    "\n",
    "    f_pred = model(X_test)\n",
    "    y_pred = f_pred.mean\n",
    "\n",
    "    y_pred = y_pred.detach().unsqueeze(dim=1)\n",
    "    y_test = y_test.detach().unsqueeze(dim=1)\n",
    "\n",
    "    score = r2_score(y_test, y_pred)\n",
    "    rmse = np.sqrt(mean_squared_error(y_test, y_pred))\n",
    "    \n",
    "    r2_list.append(score)\n",
    "    rmse_list.append(rmse)\n",
    "    \n",
    "    f_train = model(X_train).loc.detach()\n",
    "    \n",
    "    pred_dicts.append(dict(\n",
    "        y_train=y_train.numpy().reshape(-1),\n",
    "        y_train_pred=f_train.numpy().reshape(-1),\n",
    "        y_test=y_test.numpy().reshape(-1),\n",
    "        y_test_pred=y_pred.numpy().reshape(-1)\n",
    "    ))\n",
    "\n",
    "r2_list = np.array(r2_list)\n",
    "rmse_list = np.array(rmse_list)\n",
    "print(f\"R^2s: {np.mean(r2_list)} +- {np.std(r2_list)}\")\n",
    "print(f\"RMSEs: {np.mean(rmse_list)} +- {np.std(rmse_list)}\")\n",
    "# test R2"
   ]
  },
  {
   "cell_type": "code",
   "execution_count": 9,
   "id": "3edc5978",
   "metadata": {},
   "outputs": [
    {
     "data": {
      "text/plain": [
       "0.9719598887859167"
      ]
     },
     "execution_count": 9,
     "metadata": {},
     "output_type": "execute_result"
    }
   ],
   "source": [
    "# training R2\n",
    "f_train = model(X_train).loc.detach()\n",
    "r2_score(y_train, f_train)"
   ]
  },
  {
   "cell_type": "code",
   "execution_count": 10,
   "id": "0d282225",
   "metadata": {},
   "outputs": [
    {
     "data": {
      "image/png": "[encoded data removed]",
      "text/plain": [
       "<Figure size 432x288 with 2 Axes>"
      ]
     },
     "metadata": {
      "needs_background": "light"
     },
     "output_type": "display_data"
    }
   ],
   "source": [
    "# catalyst and ester covariance\n",
    "idx = y_train.sort().indices\n",
    "covar_catalysts = model.covariance_cat(X_train, 'catalyst').detach()\n",
    "covar_esters = model.covariance_est(X_train, 'ester').detach()\n",
    "fig, (ax_a, ax_b) = plt.subplots(1, 2)\n",
    "ax_a.imshow(covar_catalysts[idx, :][:, idx])\n",
    "ax_a.set_title('catalysts')\n",
    "ax_b.imshow(covar_esters[idx, :][:, idx])\n",
    "ax_b.set_title('esters')\n",
    "plt.tight_layout()"
   ]
  },
  {
   "cell_type": "code",
   "execution_count": 11,
   "id": "451dbf5a",
   "metadata": {},
   "outputs": [
    {
     "data": {
      "image/png": "[encoded data removed]",
      "text/plain": [
       "<Figure size 432x288 with 2 Axes>"
      ]
     },
     "metadata": {
      "needs_background": "light"
     },
     "output_type": "display_data"
    }
   ],
   "source": [
    "# pred, true scatterplots\n",
    "fig, (ax_a, ax_b) = plt.subplots(1, 2)\n",
    "ax_a.scatter(y_train, f_train)\n",
    "ax_a.set_title('train')\n",
    "ax_a.set_xlabel('true')\n",
    "ax_a.set_ylabel('pred')\n",
    "ax_b.scatter(y_test, y_pred)\n",
    "ax_b.set_title('test')\n",
    "ax_b.set_xlabel('true')\n",
    "ax_b.set_ylabel('pred')\n",
    "plt.tight_layout()"
   ]
  },
  {
   "cell_type": "code",
   "execution_count": 12,
   "id": "e2da776e",
   "metadata": {},
   "outputs": [
    {
     "data": {
      "text/plain": [
       "Text(0.5, 1.0, 'histogram of yields')"
      ]
     },
     "execution_count": 12,
     "metadata": {},
     "output_type": "execute_result"
    },
    {
     "data": {
      "image/png": "[encoded data removed]",
      "text/plain": [
       "<Figure size 432x288 with 1 Axes>"
      ]
     },
     "metadata": {
      "needs_background": "light"
     },
     "output_type": "display_data"
    }
   ],
   "source": [
    "plt.hist(y, bins=20)\n",
    "plt.title('histogram of yields')"
   ]
  },
  {
   "cell_type": "code",
   "execution_count": 13,
   "id": "016f7d3e",
   "metadata": {},
   "outputs": [
    {
     "name": "stdout",
     "output_type": "stream",
     "text": [
      "[{'y_test': array([  4.,  93.,  98.,  55., 100., 100.,  73.,  23.], dtype=float32),\n",
      "  'y_test_pred': array([ 39.007584,  99.117355, 105.6281  ,  78.245285,  99.11833 ,\n",
      "        95.49724 ,  93.48308 ,  54.337875], dtype=float32),\n",
      "  'y_train': array([ 85.,  81.,  95.,  66.,  45.,  96.,  98., 100.,  63.,  99.,  84.,\n",
      "        86.,  96., 100.,  93.,  18.,  57.,  97.,  75.,   4.,  95.,  75.,\n",
      "        89.], dtype=float32),\n",
      "  'y_train_pred': array([86.08159  , 86.92119  , 90.29765  , 63.06157  , 47.731308 ,\n",
      "       97.58537  , 93.84294  , 99.92705  , 62.915024 , 99.03691  ,\n",
      "       82.25499  , 90.29765  , 96.239914 , 99.06352  , 93.00554  ,\n",
      "       18.704424 , 58.290543 , 96.624435 , 74.28816  ,  3.3741322,\n",
      "       93.48308  , 73.620865 , 89.618454 ], dtype=float32)},\n",
      " {'y_test': array([100.,  75.,  93.,  81.,  73.,  95., 100.,  96.], dtype=float32),\n",
      "  'y_test_pred': array([95.21352 , 77.460686, 94.711685, 97.578995, 94.91054 , 94.91054 ,\n",
      "       94.71364 , 95.04469 ], dtype=float32),\n",
      "  'y_train': array([ 55., 100.,  85.,  96.,  98.,  86.,   4.,  97.,  84.,  98.,  57.,\n",
      "       100.,  63.,  66.,   4.,  75.,  99.,  93.,  18.,  45.,  89.,  23.,\n",
      "        95.], dtype=float32),\n",
      "  'y_train_pred': array([ 64.67184  ,  98.99635  ,  86.91884  ,  95.61075  ,  97.58107  ,\n",
      "        89.41591  ,   7.8462086,  96.67494  ,  84.19565  , 100.83095  ,\n",
      "        60.23796  ,  99.17836  ,  53.257233 ,  61.086258 ,   5.3292255,\n",
      "        71.65288  ,  98.15224  ,  93.62758  ,  16.744234 ,  49.671158 ,\n",
      "        88.87584  ,  19.26137  ,  89.41591  ], dtype=float32)},\n",
      " {'y_test': array([ 66.,   4.,  97.,  98.,  89.,  18.,  63., 100.], dtype=float32),\n",
      "  'y_test_pred': array([57.945778, 22.264063, 92.681526, 87.03333 , 88.02024 , 35.40693 ,\n",
      "       41.829323, 97.171394], dtype=float32),\n",
      "  'y_train': array([100.,  93.,  96.,  55.,  86.,  84.,  75.,  95.,  95.,  93.,  81.,\n",
      "        85.,   4.,  57., 100., 100.,  96.,  23.,  73.,  99.,  98.,  75.,\n",
      "        45.], dtype=float32),\n",
      "  'y_train_pred': array([ 98.742195 ,  92.799934 ,  96.47227  ,  54.972176 ,  88.50684  ,\n",
      "        83.32935  ,  74.87745  ,  84.630135 ,  88.50684  ,  93.317024 ,\n",
      "        82.66248  ,  85.70191  ,   6.9853306,  59.374763 ,  99.15748  ,\n",
      "        99.15467  ,  95.980965 ,  20.128061 ,  84.630135 ,  98.34351  ,\n",
      "       101.6493   ,  72.51769  ,  44.802925 ], dtype=float32)},\n",
      " {'y_test': array([ 66.,  95., 100., 100.,  73.,  75.,  96.,   4.], dtype=float32),\n",
      "  'y_test_pred': array([52.042137, 88.57375 , 98.41067 , 97.47219 , 93.674095, 64.16241 ,\n",
      "       91.05691 , 15.820215], dtype=float32),\n",
      "  'y_train': array([ 85.,  63.,  96., 100.,  57.,  98.,  89.,  86.,  97.,  84.,  81.,\n",
      "        18.,  23.,  99.,  93.,  95.,   4.,  45.,  93.,  75., 100.,  98.,\n",
      "        55.], dtype=float32),\n",
      "  'y_train_pred': array([86.701195, 55.323753, 96.29104 , 97.760765, 56.892326, 95.84353 ,\n",
      "       85.56582 , 88.57375 , 96.52932 , 83.78701 , 87.65261 , 14.669764,\n",
      "       23.090296, 98.4678  , 92.63674 , 93.674095,  7.399744, 44.77204 ,\n",
      "       94.55764 , 78.295616, 98.65896 , 93.42629 , 62.593773],\n",
      "      dtype=float32)},\n",
      " {'y_test': array([66., 75., 23.,  4., 93., 95., 99., 73.], dtype=float32),\n",
      "  'y_test_pred': array([52.251457, 64.35799 , 46.855057, 39.40593 , 93.05617 , 91.14186 ,\n",
      "       97.74318 , 91.14186 ], dtype=float32),\n",
      "  'y_train': array([100., 100.,   4.,  75.,  85.,  55.,  93.,  84.,  89.,  86.,  98.,\n",
      "        98.,  57.,  18.,  96., 100., 100.,  45.,  63.,  95.,  81.,  96.,\n",
      "        97.], dtype=float32),\n",
      "  'y_train_pred': array([99.359146 , 99.5923   ,  7.3114147, 78.21791  , 86.434586 ,\n",
      "       62.69362  , 94.52272  , 86.178894 , 85.66676  , 90.299576 ,\n",
      "       93.67067  , 97.74855  , 56.90901  , 14.760633 , 96.37038  ,\n",
      "       98.78615  , 98.03908  , 44.802452 , 55.244644 , 90.299576 ,\n",
      "       87.13478  , 93.62802  , 96.53981  ], dtype=float32)},\n",
      " {'y_test': array([85., 99., 98., 81., 98., 55.,  4., 93.], dtype=float32),\n",
      "  'y_test_pred': array([ 93.13727 ,  97.33945 ,  98.63553 ,  95.16672 , 105.64697 ,\n",
      "        78.142105,   7.870392,  97.127686], dtype=float32),\n",
      "  'y_train': array([100.,  97.,  93.,  23.,   4.,  96.,  95.,  63., 100.,  89.,  95.,\n",
      "       100., 100.,  57.,  86.,  45.,  18.,  66.,  73.,  84.,  75.,  96.,\n",
      "        75.], dtype=float32),\n",
      "  'y_train_pred': array([99.4202   , 96.70239  , 94.734985 , 23.120268 ,  3.4219265,\n",
      "       96.285    , 90.39694  , 62.892265 , 99.31134  , 89.56712  ,\n",
      "       84.937256 , 98.20352  , 99.45526  , 58.323944 , 90.39694  ,\n",
      "       47.762115 , 18.67179  , 63.011993 , 84.937256 , 82.27988  ,\n",
      "       73.57386  , 97.529785 , 74.31723  ], dtype=float32)},\n",
      " {'y_test': array([  4.,  81.,  57., 100.,  84.,  93.,  93.,  73.], dtype=float32),\n",
      "  'y_test_pred': array([ 8.20376 , 94.77114 , 65.02856 , 94.41726 , 85.95962 , 96.15133 ,\n",
      "       97.801414, 94.74526 ], dtype=float32),\n",
      "  'y_train': array([ 95., 100.,  96.,   4.,  45.,  85.,  86.,  96.,  89.,  95.,  98.,\n",
      "       100.,  23.,  63.,  66.,  97.,  75.,  98.,  99., 100.,  75.,  18.,\n",
      "        55.], dtype=float32),\n",
      "  'y_train_pred': array([89.84005 , 99.20022 , 96.381004,  8.62417 , 50.453392, 87.61886 ,\n",
      "       89.84005 , 95.8099  , 86.86721 , 94.74526 , 97.85439 , 99.074   ,\n",
      "       18.474268, 54.040306, 60.30361 , 96.8652  , 74.87881 , 99.69027 ,\n",
      "       98.45748 , 99.23452 , 77.01699 , 18.05398 , 63.89016 ],\n",
      "      dtype=float32)},\n",
      " {'y_test': array([  4.,  96.,  63.,  18.,  23.,  95., 100.,  99.], dtype=float32),\n",
      "  'y_test_pred': array([34.3542  , 97.43446 , 40.1602  , 18.885754, 49.173748, 84.449844,\n",
      "       88.10304 , 96.35048 ], dtype=float32),\n",
      "  'y_train': array([ 97.,  66.,  98., 100.,  89.,  85.,   4.,  93.,  84.,  98.,  95.,\n",
      "        55., 100.,  45.,  96.,  57.,  81.,  93.,  75.,  73., 100.,  86.,\n",
      "        75.], dtype=float32),\n",
      "  'y_train_pred': array([ 96.32179  ,  62.790615 ,  99.26906  , 100.25905  ,  89.35344  ,\n",
      "        85.54591  ,   4.0662117,  93.82692  ,  82.49873  ,  93.907364 ,\n",
      "        84.61305  ,  54.979687 ,  99.22511  ,  47.971104 ,  97.31825  ,\n",
      "        58.537838 ,  85.77931  ,  92.131    ,  74.533844 ,  84.61305  ,\n",
      "        98.87355  ,  84.449844 ,  73.35736  ], dtype=float32)},\n",
      " {'y_test': array([97.,  4., 57., 96., 75., 86., 99., 63.], dtype=float32),\n",
      "  'y_test_pred': array([93.44713 ,  4.613882, 29.5995  , 98.30003 , 43.058197, 89.33153 ,\n",
      "       97.285385, 41.507385], dtype=float32),\n",
      "  'y_train': array([ 81.,  84.,  93.,  23.,   4.,  96.,  73., 100.,  95.,  89.,  55.,\n",
      "        98., 100.,  98.,  66., 100.,  93.,  45.,  95.,  18.,  85., 100.,\n",
      "        75.], dtype=float32),\n",
      "  'y_train_pred': array([ 86.25218 ,  83.171036,  93.766464,  20.278547,   6.819929,\n",
      "        96.629684,  84.6046  ,  99.478134,  84.6046  ,  88.6678  ,\n",
      "        54.966125,  93.66783 ,  98.76524 , 102.79039 ,  62.109604,\n",
      "        99.10008 ,  92.66966 ,  48.65068 ,  89.33153 ,  18.072653,\n",
      "        85.66661 , 100.08482 ,  75.20909 ], dtype=float32)},\n",
      " {'y_test': array([18., 86., 81., 57., 95., 75., 96., 93.], dtype=float32),\n",
      "  'y_test_pred': array([14.462412, 88.06565 , 93.722145, 64.49113 , 88.06565 , 78.48997 ,\n",
      "       97.19431 , 95.131325], dtype=float32),\n",
      "  'y_train': array([ 23.,  84.,   4.,  75.,  89.,  66.,  98.,  93.,  55.,  96.,   4.,\n",
      "        97.,  85.,  45., 100., 100.,  63., 100.,  98.,  73.,  95., 100.,\n",
      "        99.], dtype=float32),\n",
      "  'y_train_pred': array([18.744486, 84.7111  ,  8.358866, 74.876686, 88.87553 , 60.569542,\n",
      "       98.45139 , 93.78001 , 64.157326, 95.09678 ,  4.076853, 96.509254,\n",
      "       86.22483 , 50.183937, 99.41697 , 99.14158 , 53.77189 , 99.05833 ,\n",
      "       98.00803 , 85.05955 , 85.05955 , 98.64915 , 98.44114 ],\n",
      "      dtype=float32)},\n",
      " {'y_test': array([100.,  57.,  95.,   4.,  75.,  95.,  98., 100.], dtype=float32),\n",
      "  'y_test_pred': array([100.81562 ,  65.30427 ,  86.22895 ,  13.534246,  79.30085 ,\n",
      "        75.115425,  95.79536 ,  94.096504], dtype=float32),\n",
      "  'y_train': array([ 89.,  63.,  93.,  96.,  96.,  84.,  23.,  81.,  98., 100.,  73.,\n",
      "        55.,  97.,  99.,  45., 100.,  66.,  85.,   4.,  75.,  86.,  93.,\n",
      "        18.], dtype=float32),\n",
      "  'y_train_pred': array([88.86744  , 54.18171  , 92.548164 , 94.68183  , 96.17292  ,\n",
      "       85.11527  , 23.100836 , 85.722115 , 93.98945  , 98.606514 ,\n",
      "       75.115425 , 63.74836  , 96.242256 , 98.544014 , 50.59278  ,\n",
      "       99.044136 , 60.15937  , 85.23029  ,  6.2589474, 74.8708   ,\n",
      "       86.22895  , 93.35676  , 15.825567 ], dtype=float32)},\n",
      " {'y_test': array([75., 45., 84., 95., 75., 23., 96., 73.], dtype=float32),\n",
      "  'y_test_pred': array([61.361916, 61.231087, 34.77375 , 91.311714, 84.41163 ,  8.550116,\n",
      "       39.229378, 91.311714], dtype=float32),\n",
      "  'y_train': array([ 18.,  95.,  55.,  97.,  93.,   4.,  86., 100.,  98., 100.,   4.,\n",
      "        93.,  99.,  96.,  57.,  63.,  89.,  98.,  81.,  85., 100.,  66.,\n",
      "       100.], dtype=float32),\n",
      "  'y_train_pred': array([13.251898, 91.22968 , 61.18598 , 96.51508 , 93.003365,  4.094488,\n",
      "       91.22968 , 97.584175, 93.92158 , 99.50678 ,  8.796576, 94.90449 ,\n",
      "       98.59907 , 96.477   , 56.90638 , 56.73005 , 88.86707 , 95.68574 ,\n",
      "       87.41767 , 86.84077 , 99.25727 , 65.68665 , 98.62299 ],\n",
      "      dtype=float32)},\n",
      " {'y_test': array([57., 81., 96., 96., 63., 73., 86., 75.], dtype=float32),\n",
      "  'y_test_pred': array([27.477411, 95.181984, 97.414894, 97.34563 , 41.436485, 94.839424,\n",
      "       89.72233 , 41.005768], dtype=float32),\n",
      "  'y_train': array([ 98.,  18.,  95.,  45.,  93.,   4.,  55., 100.,  99.,  97.,  98.,\n",
      "        95., 100.,  93.,  66.,  89., 100.,  75.,   4.,  85.,  84., 100.,\n",
      "        23.], dtype=float32),\n",
      "  'y_train_pred': array([ 97.967995 ,  17.79159  ,  94.839424 ,  48.620346 ,  95.04856  ,\n",
      "         4.2632313,  54.964813 ,  98.9968   ,  98.57145  ,  96.83872  ,\n",
      "       103.2508   ,  89.72233  ,  97.83451  ,  94.41526  ,  62.148705 ,\n",
      "        88.70862  ,  99.07026  ,  75.18024  ,   6.77619  ,  86.96024  ,\n",
      "        83.8173   ,  99.2862   ,  20.304434 ], dtype=float32)},\n",
      " {'y_test': array([85., 93., 81., 63., 57., 75., 97., 45.], dtype=float32),\n",
      "  'y_test_pred': array([92.88052 , 97.11563 , 95.58072 , 42.45081 , 28.990711, 41.503246,\n",
      "       94.25479 , 53.222656], dtype=float32),\n",
      "  'y_train': array([100.,  99.,  73.,   4.,  95.,  86.,  23.,  18., 100.,  98.,  95.,\n",
      "        96., 100.,  98.,  75.,  89., 100.,   4.,  84.,  93.,  55.,  66.,\n",
      "        96.], dtype=float32),\n",
      "  'y_train_pred': array([ 99.01993  ,  98.442535 ,  85.22037  ,   4.7748604,  85.22037  ,\n",
      "        89.00687  ,  19.7999   ,  17.287426 ,  99.09146  , 101.519684 ,\n",
      "        89.00687  ,  96.163086 ,  99.13101  ,  97.900055 ,  75.686035 ,\n",
      "        88.19867  ,  99.43472  ,   7.2871437,  83.6505   ,  93.614655 ,\n",
      "        54.963352 ,  65.73518  ,  96.19083  ], dtype=float32)},\n",
      " {'y_test': array([  4.,  96.,  75.,  75.,  97.,  63., 100., 100.], dtype=float32),\n",
      "  'y_test_pred': array([ 10.601118,  98.24361 ,  69.402054,  76.355484,  93.11592 ,\n",
      "        42.461838, 100.667435,  88.780716], dtype=float32),\n",
      "  'y_train': array([ 18.,  95.,  95.,  93.,  85.,  96., 100.,  93.,  86.,   4.,  99.,\n",
      "        98.,  45.,  66.,  81.,  55.,  84., 100.,  57.,  73.,  89.,  98.,\n",
      "        23.], dtype=float32),\n",
      "  'y_train_pred': array([ 17.29846 ,  88.40938 ,  84.63692 ,  93.92671 ,  85.75044 ,\n",
      "        96.14653 ,  99.29683 ,  92.49458 ,  88.40938 ,   4.791479,\n",
      "        98.57002 , 100.91646 ,  49.120804,  61.627823,  85.8398  ,\n",
      "        54.968765,  83.63957 ,  98.87178 ,  56.895096,  84.63692 ,\n",
      "        88.86244 ,  94.01289 ,  23.108137], dtype=float32)},\n",
      " {'y_test': array([100., 100.,  97.,  66.,  96.,  96.,  93.,  63.], dtype=float32),\n",
      "  'y_test_pred': array([88.2089  , 97.08622 , 92.80192 , 58.360306, 97.36042 , 97.181435,\n",
      "       88.58701 , 41.39128 ], dtype=float32),\n",
      "  'y_train': array([  4.,  99.,  84.,  75., 100.,  98.,  18.,  86.,  73.,  55., 100.,\n",
      "        98.,  85.,  75.,  93.,  23.,  57.,   4.,  81.,  95.,  89.,  95.,\n",
      "        45.], dtype=float32),\n",
      "  'y_train_pred': array([  6.770851 ,  98.544044 ,  83.78234  ,  75.14323  ,  99.3184   ,\n",
      "        94.0673   ,  17.832952 ,  88.09629  ,  84.671364 ,  54.9694   ,\n",
      "        98.67301  , 101.674355 ,  85.49741  ,  72.73003  ,  93.894325 ,\n",
      "        20.348854 ,  59.15204  ,   4.2548294,  85.568214 ,  88.09629  ,\n",
      "        88.72132  ,  84.671364 ,  44.78222  ], dtype=float32)},\n",
      " {'y_test': array([ 81.,  57.,  89.,  84., 100.,  85.,  23.,  95.], dtype=float32),\n",
      "  'y_test_pred': array([94.01234 , 66.45881 , 83.301094, 87.3805  , 96.85035 , 90.41798 ,\n",
      "       12.550425, 75.672615], dtype=float32),\n",
      "  'y_train': array([ 45.,  75.,  75., 100.,  93.,  98.,  98.,   4.,  55.,  97.,  73.,\n",
      "        96.,  93.,  66.,   4.,  99., 100.,  86.,  63.,  95., 100.,  96.,\n",
      "        18.], dtype=float32),\n",
      "  'y_train_pred': array([51.17562  , 74.88557  , 74.874306 , 99.19569  , 92.943245 ,\n",
      "       98.68568  , 97.919685 ,  4.1350803, 63.172615 , 96.46937  ,\n",
      "       75.672615 , 96.06861  , 93.25611  , 59.591103 ,  6.8346043,\n",
      "       98.52735  , 99.22852  , 90.27039  , 54.757088 , 90.27039  ,\n",
      "       99.28443  , 95.79597  , 15.250208 ], dtype=float32)},\n",
      " {'y_test': array([  4.,  96.,  95.,  23.,  95.,  81., 100.,  93.], dtype=float32),\n",
      "  'y_test_pred': array([ 6.8089046, 97.469604 , 75.371765 , 15.3931675, 86.30502  ,\n",
      "       89.6196   , 88.940216 , 91.49063  ], dtype=float32),\n",
      "  'y_train': array([ 98., 100.,  75.,   4.,  55.,  45.,  18.,  93.,  96.,  63., 100.,\n",
      "        89.,  57.,  86.,  97.,  98.,  66., 100.,  73.,  84.,  99.,  85.,\n",
      "        75.], dtype=float32),\n",
      "  'y_train_pred': array([97.795044, 99.23657 , 76.304306,  4.128626, 64.595146, 49.744484,\n",
      "       18.07339 , 93.41165 , 95.53058 , 53.330536, 99.665985, 87.56882 ,\n",
      "       60.311493, 86.30502 , 96.41376 , 97.56943 , 61.008972, 99.23404 ,\n",
      "       75.371765, 84.26608 , 98.53586 , 85.25815 , 71.575836],\n",
      "      dtype=float32)},\n",
      " {'y_test': array([ 73.,  95.,   4.,  89.,  66.,  84., 100.,  18.], dtype=float32),\n",
      "  'y_test_pred': array([90.77516 , 90.77516 , 21.96454 , 83.33162 , 53.25173 , 87.367966,\n",
      "       94.21449 , 30.403109], dtype=float32),\n",
      "  'y_train': array([ 75.,  63.,  98., 100.,  57.,  23.,  93.,  86., 100.,  99.,  75.,\n",
      "       100.,  97.,  81.,  45.,   4.,  96.,  96.,  85.,  95.,  98.,  93.,\n",
      "        55.], dtype=float32),\n",
      "  'y_train_pred': array([74.89314 , 54.74623 , 98.3401  , 98.01564 , 61.7278  , 17.769548,\n",
      "       94.77602 , 89.90138 , 99.62569 , 98.47798 , 70.166275, 99.13301 ,\n",
      "       96.239334, 87.05696 , 44.81317 ,  9.331316, 96.27016 , 95.80644 ,\n",
      "       86.382706, 89.90138 , 93.745804, 92.9366  , 63.185196],\n",
      "      dtype=float32)},\n",
      " {'y_test': array([ 98.,  75., 100.,  84., 100.,  97.,  23.,  98.], dtype=float32),\n",
      "  'y_test_pred': array([100.43854 ,  78.26416 ,  88.27698 ,  85.19032 ,  91.96364 ,\n",
      "        91.19208 ,  14.746311,  87.990814], dtype=float32),\n",
      "  'y_train': array([ 86.,  96.,  18.,  85.,  99.,   4.,  66.,  75.,  57.,  89.,  81.,\n",
      "        63.,  95.,  73., 100.,  55., 100.,  93.,  45.,   4.,  95.,  96.,\n",
      "        93.], dtype=float32),\n",
      "  'y_train_pred': array([89.83368 , 95.93646 , 16.349766, 85.73418 , 98.067215,  5.745426,\n",
      "       60.685772, 71.24814 , 60.64365 , 88.86871 , 82.542435, 53.66303 ,\n",
      "       89.83368 , 84.63161 , 98.86902 , 64.267426, 98.932785, 93.48459 ,\n",
      "       50.08138 ,  4.14188 , 84.63161 , 95.79469 , 93.280014],\n",
      "      dtype=float32)}]\n"
     ]
    }
   ],
   "source": [
    "import pickle as pkl\n",
    "from pprint import pprint\n",
    "pprint(pred_dicts)\n",
    "with open('ys.pkl', 'wb') as file:\n",
    "    pkl.dump(pred_dicts, file)"
   ]
  }
 ],
 "metadata": {
  "kernelspec": {
   "display_name": "mykernel",
   "language": "python",
   "name": "mykernel"
  },
  "language_info": {
   "codemirror_mode": {
    "name": "ipython",
    "version": 3
   },
   "file_extension": ".py",
   "mimetype": "text/x-python",
   "name": "python",
   "nbconvert_exporter": "python",
   "pygments_lexer": "ipython3",
   "version": "3.6.13"
  }
 },
 "nbformat": 4,
 "nbformat_minor": 5
}
